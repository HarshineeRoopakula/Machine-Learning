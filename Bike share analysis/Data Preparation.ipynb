{
 "cells": [
  {
   "cell_type": "markdown",
   "metadata": {},
   "source": [
    "# Data Preparation\n"
   ]
  },
  {
   "cell_type": "code",
   "execution_count": 3,
   "metadata": {},
   "outputs": [],
   "source": [
    "import numpy as np\n",
    "import os\n",
    "import pandas as pd\n",
    "import requests\n",
    "from bs4 import BeautifulSoup\n",
    "from zipfile import ZipFile"
   ]
  },
  {
   "cell_type": "markdown",
   "metadata": {},
   "source": [
    "## Obtaining data\n",
    "Data is published at https://www.citibikenyc.com/system-data  \n",
    "Monthly archives.  \n",
    "Data for NYC and Jersey City (starting 2015-09)."
   ]
  },
  {
   "cell_type": "code",
   "execution_count": 9,
   "metadata": {},
   "outputs": [],
   "source": [
    "d = \"data/nyc\"\n",
    "download_path = os.path.join(d, 'raw')\n",
    "parsed = os.path.join(d , \"parsed\")"
   ]
  },
  {
   "cell_type": "code",
   "execution_count": 5,
   "metadata": {},
   "outputs": [],
   "source": [
    "soup = BeautifulSoup(open(os.path.join(d, \"data.html\")), 'html.parser')\n",
    "for link in soup.findAll('a'):\n",
    "    url = link.get('href')\n",
    "    name = url.rsplit('/', 1)[-1]\n",
    "    path = os.path.join(download_path, name)\n",
    "    if name.endswith(\".zip\") and not os.path.exists(path):\n",
    "        r = requests.get(url, allow_redirects=True)\n",
    "        open(path, 'wb').write(r.content)"
   ]
  },
  {
   "cell_type": "markdown",
   "metadata": {},
   "source": [
    "Calculate count by day.  \n",
    "Some files have \"Start Time\" and others have \"starttime\".  \n",
    "Concatenating DFs creates an unwieldy DF. Easier to parse data month by month and save grouped output."
   ]
  },
  {
   "cell_type": "code",
   "execution_count": 6,
   "metadata": {},
   "outputs": [],
   "source": [
    "def parse_tripdata(path):\n",
    "    zip_file = ZipFile(path)\n",
    "    for file in zip_file.infolist():\n",
    "        if \"__MACOSX\" not in file.filename:\n",
    "            df = pd.read_csv(zip_file.open(file.filename))\n",
    "            if \"Start Time\" in df.columns:\n",
    "                df.rename(columns = {\"Start Time\": \"starttime\"}, inplace=True)\n",
    "            df[\"starttime\"] = pd.to_datetime(df[\"starttime\"])\n",
    "            df_date = df[[\"starttime\"]].groupby(by = df[\"starttime\"].dt.date).count().rename(columns={'starttime':'count'}).reset_index()\n",
    "    return df_date"
   ]
  },
  {
   "cell_type": "code",
   "execution_count": 10,
   "metadata": {},
   "outputs": [],
   "source": [
    "for path in os.listdir(d):\n",
    "    if path.endswith(\".zip\"):\n",
    "        full_path = os.path.join(d, path)\n",
    "        out_path = os.path.join(parsed, path + \".csv\")\n",
    "        if not os.path.exists(out_path):\n",
    "            print(path)\n",
    "            df_parsed = parse_tripdata(full_path)\n",
    "            df_parsed.to_csv(os.path.join(parsed, path + \".csv\"))"
   ]
  },
  {
   "cell_type": "code",
   "execution_count": 22,
   "metadata": {},
   "outputs": [
    {
     "data": {
      "text/html": [
       "<div>\n",
       "<style scoped>\n",
       "    .dataframe tbody tr th:only-of-type {\n",
       "        vertical-align: middle;\n",
       "    }\n",
       "\n",
       "    .dataframe tbody tr th {\n",
       "        vertical-align: top;\n",
       "    }\n",
       "\n",
       "    .dataframe thead th {\n",
       "        text-align: right;\n",
       "    }\n",
       "</style>\n",
       "<table border=\"1\" class=\"dataframe\">\n",
       "  <thead>\n",
       "    <tr style=\"text-align: right;\">\n",
       "      <th></th>\n",
       "      <th>date</th>\n",
       "      <th>count</th>\n",
       "    </tr>\n",
       "  </thead>\n",
       "  <tbody>\n",
       "    <tr>\n",
       "      <th>0</th>\n",
       "      <td>2013-06-01</td>\n",
       "      <td>8722</td>\n",
       "    </tr>\n",
       "    <tr>\n",
       "      <th>1</th>\n",
       "      <td>2013-06-02</td>\n",
       "      <td>15971</td>\n",
       "    </tr>\n",
       "    <tr>\n",
       "      <th>2</th>\n",
       "      <td>2013-06-03</td>\n",
       "      <td>7598</td>\n",
       "    </tr>\n",
       "    <tr>\n",
       "      <th>3</th>\n",
       "      <td>2013-06-04</td>\n",
       "      <td>15782</td>\n",
       "    </tr>\n",
       "    <tr>\n",
       "      <th>4</th>\n",
       "      <td>2013-06-05</td>\n",
       "      <td>15690</td>\n",
       "    </tr>\n",
       "  </tbody>\n",
       "</table>\n",
       "</div>"
      ],
      "text/plain": [
       "        date  count\n",
       "0 2013-06-01   8722\n",
       "1 2013-06-02  15971\n",
       "2 2013-06-03   7598\n",
       "3 2013-06-04  15782\n",
       "4 2013-06-05  15690"
      ]
     },
     "execution_count": 22,
     "metadata": {},
     "output_type": "execute_result"
    }
   ],
   "source": [
    "dfs= []\n",
    "\n",
    "for path in os.listdir(parsed):\n",
    "    full_path = os.path.join(parsed, path)\n",
    "    df = pd.read_csv(full_path, index_col=0)\n",
    "    dfs.append(df)\n",
    "    \n",
    "df_nyc = pd.concat(dfs)\n",
    "df_nyc.rename(columns = {\"starttime\": \"date\"}, inplace=True)\n",
    "df_nyc.sort_values(by=\"date\", inplace=True)\n",
    "# Group stray values that got into a wrong month\n",
    "df_nyc = df_nyc.groupby(\"date\").sum().reset_index()\n",
    "df_nyc[\"date\"] = pd.to_datetime(df_nyc[\"date\"])\n",
    "df_nyc.head()"
   ]
  },
  {
   "cell_type": "code",
   "execution_count": 29,
   "metadata": {},
   "outputs": [
    {
     "name": "stderr",
     "output_type": "stream",
     "text": [
      "/Users/svrogozhin/opt/anaconda3/lib/python3.7/site-packages/ipykernel_launcher.py:3: FutureWarning: weekofyear and week have been deprecated, please use DatetimeIndex.isocalendar().week instead, which returns a Series.  To exactly reproduce the behavior of week and weekofyear and return an Index, you may call pd.Int64Index(idx.isocalendar().week)\n",
      "  This is separate from the ipykernel package so we can avoid doing imports until\n"
     ]
    }
   ],
   "source": [
    "df_nyc[\"Year\"] = pd.DatetimeIndex(df_nyc[\"date\"]).year\n",
    "df_nyc[\"Month\"] = pd.DatetimeIndex(df_nyc[\"date\"]).month\n",
    "df_nyc[\"Week\"] = pd.DatetimeIndex(df_nyc[\"date\"]).week\n",
    "df_nyc[\"Day\"] = pd.DatetimeIndex(df_nyc[\"date\"]).day\n",
    "df_nyc[\"Day of Week\"] = pd.DatetimeIndex(df_nyc[\"date\"]).dayofweek\n",
    "df_nyc[\"Day of Year\"] = pd.DatetimeIndex(df_nyc[\"date\"]).dayofyear"
   ]
  },
  {
   "cell_type": "code",
   "execution_count": 30,
   "metadata": {},
   "outputs": [
    {
     "data": {
      "text/html": [
       "<div>\n",
       "<style scoped>\n",
       "    .dataframe tbody tr th:only-of-type {\n",
       "        vertical-align: middle;\n",
       "    }\n",
       "\n",
       "    .dataframe tbody tr th {\n",
       "        vertical-align: top;\n",
       "    }\n",
       "\n",
       "    .dataframe thead th {\n",
       "        text-align: right;\n",
       "    }\n",
       "</style>\n",
       "<table border=\"1\" class=\"dataframe\">\n",
       "  <thead>\n",
       "    <tr style=\"text-align: right;\">\n",
       "      <th></th>\n",
       "      <th>date</th>\n",
       "      <th>count</th>\n",
       "      <th>Year</th>\n",
       "      <th>Month</th>\n",
       "      <th>Week</th>\n",
       "      <th>Day</th>\n",
       "      <th>Day of Week</th>\n",
       "      <th>Day of Year</th>\n",
       "    </tr>\n",
       "  </thead>\n",
       "  <tbody>\n",
       "    <tr>\n",
       "      <th>0</th>\n",
       "      <td>2013-06-01</td>\n",
       "      <td>8722</td>\n",
       "      <td>2013</td>\n",
       "      <td>6</td>\n",
       "      <td>22</td>\n",
       "      <td>1</td>\n",
       "      <td>5</td>\n",
       "      <td>152</td>\n",
       "    </tr>\n",
       "    <tr>\n",
       "      <th>1</th>\n",
       "      <td>2013-06-02</td>\n",
       "      <td>15971</td>\n",
       "      <td>2013</td>\n",
       "      <td>6</td>\n",
       "      <td>22</td>\n",
       "      <td>2</td>\n",
       "      <td>6</td>\n",
       "      <td>153</td>\n",
       "    </tr>\n",
       "    <tr>\n",
       "      <th>2</th>\n",
       "      <td>2013-06-03</td>\n",
       "      <td>7598</td>\n",
       "      <td>2013</td>\n",
       "      <td>6</td>\n",
       "      <td>23</td>\n",
       "      <td>3</td>\n",
       "      <td>0</td>\n",
       "      <td>154</td>\n",
       "    </tr>\n",
       "    <tr>\n",
       "      <th>3</th>\n",
       "      <td>2013-06-04</td>\n",
       "      <td>15782</td>\n",
       "      <td>2013</td>\n",
       "      <td>6</td>\n",
       "      <td>23</td>\n",
       "      <td>4</td>\n",
       "      <td>1</td>\n",
       "      <td>155</td>\n",
       "    </tr>\n",
       "    <tr>\n",
       "      <th>4</th>\n",
       "      <td>2013-06-05</td>\n",
       "      <td>15690</td>\n",
       "      <td>2013</td>\n",
       "      <td>6</td>\n",
       "      <td>23</td>\n",
       "      <td>5</td>\n",
       "      <td>2</td>\n",
       "      <td>156</td>\n",
       "    </tr>\n",
       "  </tbody>\n",
       "</table>\n",
       "</div>"
      ],
      "text/plain": [
       "        date  count  Year  Month  Week  Day  Day of Week  Day of Year\n",
       "0 2013-06-01   8722  2013      6    22    1            5          152\n",
       "1 2013-06-02  15971  2013      6    22    2            6          153\n",
       "2 2013-06-03   7598  2013      6    23    3            0          154\n",
       "3 2013-06-04  15782  2013      6    23    4            1          155\n",
       "4 2013-06-05  15690  2013      6    23    5            2          156"
      ]
     },
     "execution_count": 30,
     "metadata": {},
     "output_type": "execute_result"
    }
   ],
   "source": [
    "df_nyc.head()"
   ]
  },
  {
   "cell_type": "code",
   "execution_count": 31,
   "metadata": {},
   "outputs": [],
   "source": [
    "df_nyc.to_csv(os.path.join(d, \"nyc-daily.csv\"))"
   ]
  },
  {
   "cell_type": "code",
   "execution_count": null,
   "metadata": {},
   "outputs": [],
   "source": []
  }
 ],
 "metadata": {
  "kernelspec": {
   "display_name": "Python 3",
   "language": "python",
   "name": "python3"
  },
  "language_info": {
   "codemirror_mode": {
    "name": "ipython",
    "version": 3
   },
   "file_extension": ".py",
   "mimetype": "text/x-python",
   "name": "python",
   "nbconvert_exporter": "python",
   "pygments_lexer": "ipython3",
   "version": "3.8.5"
  }
 },
 "nbformat": 4,
 "nbformat_minor": 4
}
